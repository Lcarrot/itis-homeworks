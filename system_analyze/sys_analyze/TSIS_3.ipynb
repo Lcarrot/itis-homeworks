{
  "nbformat": 4,
  "nbformat_minor": 0,
  "metadata": {
    "colab": {
      "provenance": []
    },
    "kernelspec": {
      "name": "python3",
      "display_name": "Python 3"
    },
    "language_info": {
      "name": "python"
    }
  },
  "cells": [
    {
      "cell_type": "code",
      "execution_count": null,
      "metadata": {
        "colab": {
          "base_uri": "https://localhost:8080/"
        },
        "id": "v1LpTqs9xdJZ",
        "outputId": "a9a10149-65a5-4c8b-cbef-03590f5ae081"
      },
      "outputs": [
        {
          "output_type": "stream",
          "name": "stdout",
          "text": [
            "Mounted at /content/drive\n"
          ]
        }
      ],
      "source": [
        "import numpy as np\n",
        "from sklearn.metrics import accuracy_score\n",
        "import tensorflow as tf\n",
        "import keras\n",
        "import keras.models as M\n",
        "import keras.layers as L\n",
        "import keras.backend as K\n",
        "from google.colab import drive\n",
        "drive.mount('/content/drive')"
      ]
    },
    {
      "cell_type": "code",
      "source": [
        "import csv\n",
        "\n",
        "x_data = []\n",
        "\n",
        "file_path = '/content/drive/MyDrive/shared/xdata.csv'\n",
        "with open(file_path, 'r') as file:\n",
        "  csvreader = csv.reader(file, delimiter=';')\n",
        "  for row in csvreader:\n",
        "    x_data.append([float(row[0]), float(row[1])])\n",
        "\n",
        "y_data = []\n",
        "\n",
        "file_path = '/content/drive/MyDrive/shared/ydata04.csv'\n",
        "with open(file_path, 'r') as file:\n",
        "  csvreader = csv.reader(file, delimiter=';')\n",
        "  for row in csvreader:\n",
        "    y_data.append([float(row[0])])"
      ],
      "metadata": {
        "id": "DU64cv88yVGC"
      },
      "execution_count": null,
      "outputs": []
    },
    {
      "cell_type": "code",
      "source": [
        "K.clear_session()\n",
        "model = M.Sequential()\n",
        "model.add(L.Dense(units=2, activation='sigmoid', use_bias=False))\n",
        "model.add(L.Dense(units=3, activation='sigmoid',  use_bias=False))\n",
        "model.add(L.Dense(units=1, activation='sigmoid',  use_bias=False))\n",
        "model.compile(\n",
        " loss='mse',\n",
        " metrics=['mse']\n",
        ")\n",
        "model.fit(\n",
        " x_data,\n",
        " y_data,\n",
        " epochs=1000\n",
        ")\n",
        "\n",
        "for layer in model.layers:\n",
        "    print('new layer')\n",
        "    print(layer.get_weights())"
      ],
      "metadata": {
        "id": "ZGCIWa4lz6Qy"
      },
      "execution_count": null,
      "outputs": []
    }
  ]
}